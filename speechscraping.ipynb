{
 "cells": [
  {
   "cell_type": "markdown",
   "metadata": {},
   "source": [
    "### Packages"
   ]
  },
  {
   "cell_type": "code",
   "execution_count": 1,
   "metadata": {},
   "outputs": [],
   "source": [
    "from bs4 import BeautifulSoup\n",
    "import requests\n",
    "import pandas as pd"
   ]
  },
  {
   "cell_type": "markdown",
   "metadata": {},
   "source": [
    "### Create a DF of all the speeches"
   ]
  },
  {
   "cell_type": "code",
   "execution_count": 2,
   "metadata": {},
   "outputs": [],
   "source": [
    "all_years=pd.DataFrame(columns=['link','title','speaker','event','year'])"
   ]
  },
  {
   "cell_type": "code",
   "execution_count": 3,
   "metadata": {},
   "outputs": [],
   "source": [
    "# 1996 to 2006\n",
    "years=range(1996,2006)\n",
    "for year in years:\n",
    "    speeches_one_year = pd.DataFrame()\n",
    "    page = requests.get(f'https://www.federalreserve.gov/newsevents/speech/{year}speech.htm')\n",
    "    soup = BeautifulSoup(page.text, 'html.parser')\n",
    "    title = soup.select(\".title\")\n",
    "    speakers = soup.select(\".speaker\")\n",
    "    locations = soup.select(\".location\")\n",
    "    for i in range(len(title)):\n",
    "        speeches_one_year.at[i,'link'] = 'https://www.federalreserve.gov'+title[i].find_all('a', href=True)[0]['href']\n",
    "        speeches_one_year.at[i,'title'] = title[i].text.split('\\n')[1]\n",
    "        speeches_one_year.at[i,'speaker'] = speakers[i].text.split('\\n')[1].strip()\n",
    "        speeches_one_year.at[i,'event'] = locations[i].text.split('\\n')[1].strip()\n",
    "        speeches_one_year.at[i,'year'] = year\n",
    "    all_years=all_years.append(speeches_one_year,ignore_index=True)"
   ]
  },
  {
   "cell_type": "code",
   "execution_count": 4,
   "metadata": {},
   "outputs": [],
   "source": [
    "# 2006 to 2021\n",
    "years=range(2006,2021)\n",
    "for year in years:\n",
    "    if year > 2010:\n",
    "        page = requests.get(f'https://www.federalreserve.gov/newsevents/speech/{year}-speeches.htm')\n",
    "    else:\n",
    "        page = requests.get(f'https://www.federalreserve.gov/newsevents/speech/{year}speech.htm')\n",
    "    soup = BeautifulSoup(page.text, 'html.parser')\n",
    "    events = soup.select(\".eventlist__event\")\n",
    "    speeches_one_year = pd.DataFrame()\n",
    "    for i,speech in enumerate(events):\n",
    "        speeches_one_year.at[i,'link'] = 'https://www.federalreserve.gov'+events[i].find_all('a', href=True)[0]['href']\n",
    "        speeches_one_year.at[i,'title'] = events[i].text.split('\\n')[2]\n",
    "        if events[i].text.split('\\n')[3]=='Watch Live' or events[i].text.split('\\n')[3]=='Video':\n",
    "            speeches_one_year.at[i,'speaker'] = events[i].text.split('\\n')[4]\n",
    "            speeches_one_year.at[i,'event'] = events[i].text.split('\\n')[5]\n",
    "        else:\n",
    "            speeches_one_year.at[i,'speaker'] = events[i].text.split('\\n')[3]\n",
    "            speeches_one_year.at[i,'event'] = events[i].text.split('\\n')[4]\n",
    "        speeches_one_year.at[i,'year'] = year\n",
    "    all_years=all_years.append(speeches_one_year,ignore_index=True)"
   ]
  },
  {
   "cell_type": "markdown",
   "metadata": {},
   "source": [
    "### Get text of the speeches"
   ]
  },
  {
   "cell_type": "code",
   "execution_count": 5,
   "metadata": {},
   "outputs": [],
   "source": [
    "old_site_version_length = sum(all_years['year']<1999)\n",
    "for i in range(old_site_version_length):\n",
    "    page = requests.get(all_years.loc[i,'link'])\n",
    "    soup = BeautifulSoup(page.text, 'html.parser')\n",
    "    text_list = [i for i in soup.find('p').getText().split('\\n') if i] \n",
    "    text_list=text_list[:-8]\n",
    "    text_list = ' '.join(text_list)\n",
    "    text_list = text_list.replace('--', ' ')\n",
    "    text_list = text_list.replace('\\r', '')\n",
    "    text_list = text_list.replace('\\t', '')\n",
    "    all_years.loc[i,'text'] = text_list"
   ]
  },
  {
   "cell_type": "code",
   "execution_count": 6,
   "metadata": {},
   "outputs": [],
   "source": [
    "for i in range(len(all_years)):\n",
    "    if ((all_years.loc[i,'year']>1998) & (all_years.loc[i,'year']<2006)):\n",
    "        page = requests.get(all_years['link'].iloc[i])\n",
    "        soup = BeautifulSoup(page.text, 'html.parser')\n",
    "        events = soup.select(\"table\")\n",
    "        if len(str(events[0].text))>600:\n",
    "            text_list = [i for i in events[0].text if i] \n",
    "        else:\n",
    "            text_list = [i for i in events[1].text if i]\n",
    "        text_list = ''.join(text_list)\n",
    "        text_list = text_list.replace('--', '')\n",
    "        text_list = text_list.replace('\\r', '')\n",
    "        text_list = text_list.replace('\\t', '')\n",
    "        if ((i>=383) & (i<=536)):\n",
    "            text_list = text_list.replace('     ', ' ')\n",
    "            text_list = text_list.replace('    ', ' ')\n",
    "        all_years.loc[i,'text'] = text_list"
   ]
  },
  {
   "cell_type": "code",
   "execution_count": 7,
   "metadata": {},
   "outputs": [],
   "source": [
    "# These black_listed ones seem to be like papers\n",
    "# we need to go to screenreader mode and scrape the text off of this.\n",
    "# print(all_years.loc[[748]])\n",
    "black_listed=[744,748]\n",
    "for i in range(1,len(all_years)):\n",
    "    if ((all_years.loc[i,'year']>2005) and (i not in black_listed)):\n",
    "        page = requests.get(all_years.loc[i,'link'])\n",
    "        soup = BeautifulSoup(page.text, 'html.parser')\n",
    "        events = soup.select(\".col-md-8\")\n",
    "        text_list = events[1].text\n",
    "        text_list = text_list.replace('\\xa0', ' ')\n",
    "        text_list = text_list.replace('\\n', ' ')\n",
    "        all_years.loc[i,'text'] = text_list"
   ]
  },
  {
   "cell_type": "markdown",
   "metadata": {},
   "source": [
    "### Get speeches date"
   ]
  },
  {
   "cell_type": "code",
   "execution_count": 8,
   "metadata": {},
   "outputs": [],
   "source": [
    "all_years['date'] = all_years['link'].str.extract('(\\d\\d\\d\\d\\d\\d\\d\\d)')"
   ]
  },
  {
   "cell_type": "markdown",
   "metadata": {},
   "source": [
    "### Get speeches length"
   ]
  },
  {
   "cell_type": "code",
   "execution_count": 9,
   "metadata": {},
   "outputs": [],
   "source": [
    "all_years = all_years[~all_years['text'].isna()]\n",
    "all_years['text_len'] = all_years['text'].str.split().apply(len)"
   ]
  },
  {
   "cell_type": "markdown",
   "metadata": {},
   "source": [
    "### Get speeches location"
   ]
  },
  {
   "cell_type": "code",
   "execution_count": null,
   "metadata": {},
   "outputs": [],
   "source": [
    "all_years['location'] = all_years.event.str.split(', ').apply(lambda x: x[-1])"
   ]
  },
  {
   "cell_type": "markdown",
   "metadata": {},
   "source": [
    "### Fix speakers names"
   ]
  },
  {
   "cell_type": "code",
   "execution_count": null,
   "metadata": {},
   "outputs": [],
   "source": [
    "all_years.loc[all_years['speaker']=='Chairman  Ben S. Bernanke','speaker'] = 'Chairman Ben S. Bernanke'\n",
    "all_years.loc[all_years['speaker']=='Governor Ben S. Bernanke and Vincent R. Reinhart, Director, Division of Monetary Affairs','speaker'] = 'Governor Ben S. Bernanke'\n",
    "all_years.loc[all_years['speaker']=='Governor Donald L. Kohn and Brian P. Sack, Senior Economist','speaker'] = 'Governor Donald L. Kohn'\n",
    "all_years.loc[all_years['speaker']=='Governor Susan Schmidt Bies','speaker'] = 'Governor Susan S. Bies'\n",
    "all_years.loc[all_years['speaker']=='Vice Chair for Supervision and Chair of the Financial Stability Board Randal K. Quarles','speaker'] = 'Vice Chair for Supervision Randal K. Quarles'\n",
    "all_years.loc[all_years['speaker']=='Vice Chairman for Supervision and Chair of the Financial Stability Board Randal K. Quarles','speaker'] = 'Vice Chair for Supervision Randal K. Quarles'\n",
    "all_years.loc[all_years['speaker']=='Vice Chairman for Supervision Randal K. Quarles','speaker'] = 'Vice Chair for Supervision Randal K. Quarles'\n",
    "all_years.loc[all_years['speaker']=='Vice Chairman Roger W. Ferguson, Jr','speaker'] = 'Vice Chairman Roger W. Ferguson'\n",
    "all_years.loc[all_years['speaker']=='Vice Chairman Roger W. Ferguson, Jr.','speaker'] = 'Vice Chairman Roger W. Ferguson'\n",
    "all_years.loc[all_years['speaker']=='Chair Jerome H. Powell','speaker'] = 'Chairman Jerome H. Powell'\n",
    "all_years.loc[all_years['speaker']=='Vice Chair Richard H. Clarida','speaker'] = 'Vice Chairman Richard H. Clarida'\n",
    "all_years = all_years[all_years['speaker']!='Brian F. Madigan, Director, Division of Monetary Affairs']"
   ]
  },
  {
   "cell_type": "markdown",
   "metadata": {},
   "source": [
    "### Fix NaNs Manually"
   ]
  },
  {
   "cell_type": "code",
   "execution_count": null,
   "metadata": {},
   "outputs": [],
   "source": [
    "all_years.loc[[721], 'date'] = 20071116\n",
    "all_years.loc[[825], 'speaker'] = 'Chairman Ben S. Bernanke'\n",
    "all_years.loc[[882], 'speaker'] = 'Chairman Ben S. Bernanke'"
   ]
  },
  {
   "cell_type": "code",
   "execution_count": null,
   "metadata": {},
   "outputs": [],
   "source": [
    "all_years.date = pd.to_datetime(all_years.date, format='%Y%m%d')"
   ]
  },
  {
   "cell_type": "code",
   "execution_count": null,
   "metadata": {},
   "outputs": [],
   "source": [
    "all_yearsNaN = all_years[all_years.isna().any(axis=1)]\n",
    "if (len(all_yearsNaN) != 0):\n",
    "    print(\"There is an Error!\")\n",
    "    all_yearsNaN.head()"
   ]
  },
  {
   "cell_type": "markdown",
   "metadata": {},
   "source": [
    "### Output to CSV"
   ]
  },
  {
   "cell_type": "code",
   "execution_count": null,
   "metadata": {},
   "outputs": [],
   "source": [
    "all_years = all_years[all_years.text_len!=0]"
   ]
  },
  {
   "cell_type": "code",
   "execution_count": null,
   "metadata": {},
   "outputs": [],
   "source": [
    "all_years.to_csv('fed_speeches_1996_2021.csv',index=False)"
   ]
  }
 ],
 "metadata": {
  "interpreter": {
   "hash": "950ab3c25c261bbcc87018d1fc6311d2d6d93db82fcc62204981b2c1af7a35c1"
  },
  "kernelspec": {
   "display_name": "Python 3.9.6 64-bit ('MAIN': conda)",
   "language": "python",
   "name": "python3"
  },
  "language_info": {
   "codemirror_mode": {
    "name": "ipython",
    "version": 3
   },
   "file_extension": ".py",
   "mimetype": "text/x-python",
   "name": "python",
   "nbconvert_exporter": "python",
   "pygments_lexer": "ipython3",
   "version": "3.9.6"
  },
  "orig_nbformat": 4
 },
 "nbformat": 4,
 "nbformat_minor": 2
}
