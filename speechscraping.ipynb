{
 "cells": [
  {
   "cell_type": "markdown",
   "metadata": {},
   "source": [
    "### Packages"
   ]
  },
  {
   "cell_type": "code",
   "execution_count": 3,
   "metadata": {},
   "outputs": [],
   "source": [
    "from bs4 import BeautifulSoup\n",
    "import requests\n",
    "import pandas as pd"
   ]
  },
  {
   "cell_type": "markdown",
   "metadata": {},
   "source": [
    "### Create a DF of all the speeches"
   ]
  },
  {
   "cell_type": "code",
   "execution_count": 6,
   "metadata": {},
   "outputs": [],
   "source": [
    "all_years=pd.DataFrame(columns=['link','title','speaker','event','year'])"
   ]
  },
  {
   "cell_type": "code",
   "execution_count": 8,
   "metadata": {},
   "outputs": [],
   "source": [
    "# 1996 to 2006\n",
    "years=range(1996,2006)\n",
    "for year in years:\n",
    "    speeches_one_year = pd.DataFrame()\n",
    "    page = requests.get(f'https://www.federalreserve.gov/newsevents/speech/{year}speech.htm')\n",
    "    soup = BeautifulSoup(page.text, 'html.parser')\n",
    "    title = soup.select(\".title\")\n",
    "    speakers = soup.select(\".speaker\")\n",
    "    locations = soup.select(\".location\")\n",
    "    for i in range(len(title)):\n",
    "        speeches_one_year.at[i,'link'] = 'https://www.federalreserve.gov'+title[i].find_all('a', href=True)[0]['href']\n",
    "        speeches_one_year.at[i,'title'] = title[i].text.split('\\n')[1]\n",
    "        speeches_one_year.at[i,'speaker'] = speakers[i].text.split('\\n')[1].strip()\n",
    "        speeches_one_year.at[i,'event'] = locations[i].text.split('\\n')[1].strip()\n",
    "        speeches_one_year.at[i,'year'] = year\n",
    "    all_years=all_years.append(speeches_one_year,ignore_index=True)"
   ]
  },
  {
   "cell_type": "code",
   "execution_count": 12,
   "metadata": {},
   "outputs": [],
   "source": [
    "# 2006 to 2021\n",
    "years=range(2006,2021)\n",
    "for year in years:\n",
    "    if year > 2010:\n",
    "        page = requests.get(f'https://www.federalreserve.gov/newsevents/speech/{year}-speeches.htm')\n",
    "    else:\n",
    "        page = requests.get(f'https://www.federalreserve.gov/newsevents/speech/{year}speech.htm')\n",
    "    soup = BeautifulSoup(page.text, 'html.parser')\n",
    "    events = soup.select(\".eventlist__event\")\n",
    "    speeches_one_year = pd.DataFrame()\n",
    "    for i,speech in enumerate(events):\n",
    "        speeches_one_year.at[i,'link'] = 'https://www.federalreserve.gov'+events[i].find_all('a', href=True)[0]['href']\n",
    "        speeches_one_year.at[i,'title'] = events[i].text.split('\\n')[2]\n",
    "        if events[i].text.split('\\n')[3]=='Watch Live' or events[i].text.split('\\n')[3]=='Video':\n",
    "            speeches_one_year.at[i,'speaker'] = events[i].text.split('\\n')[4]\n",
    "            speeches_one_year.at[i,'event'] = events[i].text.split('\\n')[5]\n",
    "        else:\n",
    "            speeches_one_year.at[i,'speaker'] = events[i].text.split('\\n')[3]\n",
    "            speeches_one_year.at[i,'event'] = events[i].text.split('\\n')[4]\n",
    "        speeches_one_year.at[i,'year'] = year\n",
    "    all_years=all_years.append(speeches_one_year,ignore_index=True)"
   ]
  }
 ],
 "metadata": {
  "interpreter": {
   "hash": "950ab3c25c261bbcc87018d1fc6311d2d6d93db82fcc62204981b2c1af7a35c1"
  },
  "kernelspec": {
   "display_name": "Python 3.9.6 64-bit ('MAIN': conda)",
   "language": "python",
   "name": "python3"
  },
  "language_info": {
   "codemirror_mode": {
    "name": "ipython",
    "version": 3
   },
   "file_extension": ".py",
   "mimetype": "text/x-python",
   "name": "python",
   "nbconvert_exporter": "python",
   "pygments_lexer": "ipython3",
   "version": "3.9.6"
  },
  "orig_nbformat": 4
 },
 "nbformat": 4,
 "nbformat_minor": 2
}
